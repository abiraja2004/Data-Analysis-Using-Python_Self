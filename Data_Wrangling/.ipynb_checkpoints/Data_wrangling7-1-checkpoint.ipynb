{
 "cells": [
  {
   "cell_type": "code",
   "execution_count": 1,
   "metadata": {
    "collapsed": false
   },
   "outputs": [
    {
     "data": {
      "text/html": [
       "<div>\n",
       "<table border=\"1\" class=\"dataframe\">\n",
       "  <thead>\n",
       "    <tr style=\"text-align: right;\">\n",
       "      <th></th>\n",
       "      <th>a</th>\n",
       "      <th>b</th>\n",
       "      <th>c</th>\n",
       "    </tr>\n",
       "  </thead>\n",
       "  <tbody>\n",
       "    <tr>\n",
       "      <th>0</th>\n",
       "      <td>-1.003676</td>\n",
       "      <td>0.645878</td>\n",
       "      <td>-0.209918</td>\n",
       "    </tr>\n",
       "    <tr>\n",
       "      <th>1</th>\n",
       "      <td>1.055084</td>\n",
       "      <td>-0.588263</td>\n",
       "      <td>-1.007060</td>\n",
       "    </tr>\n",
       "    <tr>\n",
       "      <th>2</th>\n",
       "      <td>-0.973837</td>\n",
       "      <td>1.509265</td>\n",
       "      <td>1.674123</td>\n",
       "    </tr>\n",
       "    <tr>\n",
       "      <th>3</th>\n",
       "      <td>-0.986103</td>\n",
       "      <td>-0.314157</td>\n",
       "      <td>2.762117</td>\n",
       "    </tr>\n",
       "    <tr>\n",
       "      <th>4</th>\n",
       "      <td>-0.719040</td>\n",
       "      <td>0.679959</td>\n",
       "      <td>-0.290434</td>\n",
       "    </tr>\n",
       "  </tbody>\n",
       "</table>\n",
       "</div>"
      ],
      "text/plain": [
       "          a         b         c\n",
       "0 -1.003676  0.645878 -0.209918\n",
       "1  1.055084 -0.588263 -1.007060\n",
       "2 -0.973837  1.509265  1.674123\n",
       "3 -0.986103 -0.314157  2.762117\n",
       "4 -0.719040  0.679959 -0.290434"
      ]
     },
     "execution_count": 1,
     "metadata": {},
     "output_type": "execute_result"
    }
   ],
   "source": [
    "import pandas as pd\n",
    "from pandas import *\n",
    "import numpy as np\n",
    "from numpy.random import randn\n",
    "data=DataFrame(np.random.randn(5,3),columns=['a','b','c'])\n",
    "data"
   ]
  },
  {
   "cell_type": "code",
   "execution_count": 2,
   "metadata": {
    "collapsed": false
   },
   "outputs": [
    {
     "data": {
      "text/html": [
       "<div>\n",
       "<table border=\"1\" class=\"dataframe\">\n",
       "  <thead>\n",
       "    <tr style=\"text-align: right;\">\n",
       "      <th></th>\n",
       "      <th>a</th>\n",
       "      <th>b</th>\n",
       "      <th>c</th>\n",
       "      <th>d</th>\n",
       "    </tr>\n",
       "  </thead>\n",
       "  <tbody>\n",
       "    <tr>\n",
       "      <th>0</th>\n",
       "      <td>-1.003676</td>\n",
       "      <td>0.645878</td>\n",
       "      <td>-0.209918</td>\n",
       "      <td>1.704465</td>\n",
       "    </tr>\n",
       "    <tr>\n",
       "      <th>1</th>\n",
       "      <td>1.055084</td>\n",
       "      <td>-0.588263</td>\n",
       "      <td>-1.007060</td>\n",
       "      <td>-0.463548</td>\n",
       "    </tr>\n",
       "    <tr>\n",
       "      <th>2</th>\n",
       "      <td>-0.973837</td>\n",
       "      <td>1.509265</td>\n",
       "      <td>1.674123</td>\n",
       "      <td>0.319826</td>\n",
       "    </tr>\n",
       "    <tr>\n",
       "      <th>3</th>\n",
       "      <td>-0.986103</td>\n",
       "      <td>-0.314157</td>\n",
       "      <td>2.762117</td>\n",
       "      <td>-0.470748</td>\n",
       "    </tr>\n",
       "    <tr>\n",
       "      <th>4</th>\n",
       "      <td>-0.719040</td>\n",
       "      <td>0.679959</td>\n",
       "      <td>-0.290434</td>\n",
       "      <td>0.134561</td>\n",
       "    </tr>\n",
       "  </tbody>\n",
       "</table>\n",
       "</div>"
      ],
      "text/plain": [
       "          a         b         c         d\n",
       "0 -1.003676  0.645878 -0.209918  1.704465\n",
       "1  1.055084 -0.588263 -1.007060 -0.463548\n",
       "2 -0.973837  1.509265  1.674123  0.319826\n",
       "3 -0.986103 -0.314157  2.762117 -0.470748\n",
       "4 -0.719040  0.679959 -0.290434  0.134561"
      ]
     },
     "execution_count": 2,
     "metadata": {},
     "output_type": "execute_result"
    }
   ],
   "source": [
    "### Writing equation\n",
    "data['d']=(data.a+data.b)/data.c\n",
    "data"
   ]
  },
  {
   "cell_type": "code",
   "execution_count": 3,
   "metadata": {
    "collapsed": false
   },
   "outputs": [
    {
     "data": {
      "text/html": [
       "<div>\n",
       "<table border=\"1\" class=\"dataframe\">\n",
       "  <thead>\n",
       "    <tr style=\"text-align: right;\">\n",
       "      <th></th>\n",
       "      <th>a</th>\n",
       "      <th>b</th>\n",
       "      <th>c</th>\n",
       "      <th>d</th>\n",
       "      <th>e</th>\n",
       "    </tr>\n",
       "  </thead>\n",
       "  <tbody>\n",
       "    <tr>\n",
       "      <th>0</th>\n",
       "      <td>-1.003676</td>\n",
       "      <td>0.645878</td>\n",
       "      <td>-0.209918</td>\n",
       "      <td>1.704465</td>\n",
       "      <td>2.708142</td>\n",
       "    </tr>\n",
       "    <tr>\n",
       "      <th>1</th>\n",
       "      <td>1.055084</td>\n",
       "      <td>-0.588263</td>\n",
       "      <td>-1.007060</td>\n",
       "      <td>-0.463548</td>\n",
       "      <td>2.062144</td>\n",
       "    </tr>\n",
       "    <tr>\n",
       "      <th>2</th>\n",
       "      <td>-0.973837</td>\n",
       "      <td>1.509265</td>\n",
       "      <td>1.674123</td>\n",
       "      <td>0.319826</td>\n",
       "      <td>2.647960</td>\n",
       "    </tr>\n",
       "    <tr>\n",
       "      <th>3</th>\n",
       "      <td>-0.986103</td>\n",
       "      <td>-0.314157</td>\n",
       "      <td>2.762117</td>\n",
       "      <td>-0.470748</td>\n",
       "      <td>3.748220</td>\n",
       "    </tr>\n",
       "    <tr>\n",
       "      <th>4</th>\n",
       "      <td>-0.719040</td>\n",
       "      <td>0.679959</td>\n",
       "      <td>-0.290434</td>\n",
       "      <td>0.134561</td>\n",
       "      <td>1.398999</td>\n",
       "    </tr>\n",
       "  </tbody>\n",
       "</table>\n",
       "</div>"
      ],
      "text/plain": [
       "          a         b         c         d         e\n",
       "0 -1.003676  0.645878 -0.209918  1.704465  2.708142\n",
       "1  1.055084 -0.588263 -1.007060 -0.463548  2.062144\n",
       "2 -0.973837  1.509265  1.674123  0.319826  2.647960\n",
       "3 -0.986103 -0.314157  2.762117 -0.470748  3.748220\n",
       "4 -0.719040  0.679959 -0.290434  0.134561  1.398999"
      ]
     },
     "execution_count": 3,
     "metadata": {},
     "output_type": "execute_result"
    }
   ],
   "source": [
    "### Using apply() and lambda\n",
    "data['e']=data.apply(lambda x: x.max()-x.min(), axis=1)\n",
    "data"
   ]
  },
  {
   "cell_type": "code",
   "execution_count": null,
   "metadata": {
    "collapsed": true
   },
   "outputs": [],
   "source": []
  }
 ],
 "metadata": {
  "anaconda-cloud": {},
  "kernelspec": {
   "display_name": "Python [conda root]",
   "language": "python",
   "name": "conda-root-py"
  },
  "language_info": {
   "codemirror_mode": {
    "name": "ipython",
    "version": 3
   },
   "file_extension": ".py",
   "mimetype": "text/x-python",
   "name": "python",
   "nbconvert_exporter": "python",
   "pygments_lexer": "ipython3",
   "version": "3.5.2"
  }
 },
 "nbformat": 4,
 "nbformat_minor": 0
}
