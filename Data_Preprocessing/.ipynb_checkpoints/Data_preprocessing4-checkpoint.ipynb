{
 "cells": [
  {
   "cell_type": "code",
   "execution_count": 1,
   "metadata": {
    "collapsed": false
   },
   "outputs": [
    {
     "name": "stdout",
     "output_type": "stream",
     "text": [
      "[ 0.15477427  0.47400125  0.55806081  0.99922511  0.60914537  0.13654037\n",
      "  0.25935971  0.91957144  0.39785308  0.27697265  0.69447283  0.25497686\n",
      "  0.02326131  0.98663542  0.8356259   0.41676424  0.78821513  0.46410615\n",
      "  0.27926714  0.57200121]\n"
     ]
    }
   ],
   "source": [
    "import numpy as np\n",
    "from numpy.random import randn\n",
    "import pandas as pd\n",
    "data = np.random.rand(20)\n",
    "print (data)"
   ]
  },
  {
   "cell_type": "code",
   "execution_count": 2,
   "metadata": {
    "collapsed": false
   },
   "outputs": [
    {
     "data": {
      "text/plain": [
       "[(0.022, 0.27], (0.27, 0.51], (0.51, 0.76], (0.76, 1], (0.51, 0.76], ..., (0.27, 0.51], (0.76, 1], (0.27, 0.51], (0.27, 0.51], (0.51, 0.76]]\n",
       "Length: 20\n",
       "Categories (4, object): [(0.022, 0.27] < (0.27, 0.51] < (0.51, 0.76] < (0.76, 1]]"
      ]
     },
     "execution_count": 2,
     "metadata": {},
     "output_type": "execute_result"
    }
   ],
   "source": [
    "pd.cut(data, 4, precision=2) ### equal length bins"
   ]
  },
  {
   "cell_type": "code",
   "execution_count": 4,
   "metadata": {
    "collapsed": false
   },
   "outputs": [
    {
     "name": "stdout",
     "output_type": "stream",
     "text": [
      "(0.718, 0.999]     5\n",
      "(0.469, 0.718]     5\n",
      "(0.273, 0.469]     5\n",
      "[0.0233, 0.273]    5\n",
      "dtype: int64\n"
     ]
    }
   ],
   "source": [
    "intervals=pd.qcut(data, 4) ### equal number of datapoints in each interval\n",
    "print (pd.value_counts(intervals))"
   ]
  },
  {
   "cell_type": "code",
   "execution_count": 5,
   "metadata": {
    "collapsed": false
   },
   "outputs": [
    {
     "data": {
      "text/html": [
       "<div>\n",
       "<table border=\"1\" class=\"dataframe\">\n",
       "  <thead>\n",
       "    <tr style=\"text-align: right;\">\n",
       "      <th></th>\n",
       "      <th>count</th>\n",
       "      <th>max</th>\n",
       "      <th>mean</th>\n",
       "      <th>min</th>\n",
       "    </tr>\n",
       "    <tr>\n",
       "      <th>data1</th>\n",
       "      <th></th>\n",
       "      <th></th>\n",
       "      <th></th>\n",
       "      <th></th>\n",
       "    </tr>\n",
       "  </thead>\n",
       "  <tbody>\n",
       "    <tr>\n",
       "      <th>(-3.792, -2.0839]</th>\n",
       "      <td>8.0</td>\n",
       "      <td>-2.177674</td>\n",
       "      <td>-2.671004</td>\n",
       "      <td>-3.785044</td>\n",
       "    </tr>\n",
       "    <tr>\n",
       "      <th>(-2.0839, -0.383]</th>\n",
       "      <td>340.0</td>\n",
       "      <td>-0.388168</td>\n",
       "      <td>-1.019221</td>\n",
       "      <td>-2.070415</td>\n",
       "    </tr>\n",
       "    <tr>\n",
       "      <th>(-0.383, 1.318]</th>\n",
       "      <td>550.0</td>\n",
       "      <td>1.315044</td>\n",
       "      <td>0.341054</td>\n",
       "      <td>-0.376684</td>\n",
       "    </tr>\n",
       "    <tr>\n",
       "      <th>(1.318, 3.0195]</th>\n",
       "      <td>102.0</td>\n",
       "      <td>3.019541</td>\n",
       "      <td>1.801885</td>\n",
       "      <td>1.320684</td>\n",
       "    </tr>\n",
       "  </tbody>\n",
       "</table>\n",
       "</div>"
      ],
      "text/plain": [
       "                   count       max      mean       min\n",
       "data1                                                 \n",
       "(-3.792, -2.0839]    8.0 -2.177674 -2.671004 -3.785044\n",
       "(-2.0839, -0.383]  340.0 -0.388168 -1.019221 -2.070415\n",
       "(-0.383, 1.318]    550.0  1.315044  0.341054 -0.376684\n",
       "(1.318, 3.0195]    102.0  3.019541  1.801885  1.320684"
      ]
     },
     "execution_count": 5,
     "metadata": {},
     "output_type": "execute_result"
    }
   ],
   "source": [
    "import pandas as pd\n",
    "from pandas import *\n",
    "frame = DataFrame({'data1': np.random.randn(1000),'data2': np.random.randn(1000)})\n",
    "factor = pd.cut(frame.data1, 4)\n",
    "def get_stats(group):\n",
    "    return {'min': group.min(), 'max': group.max(),'count': group.count(), 'mean': group.mean()}\n",
    "grouped = frame.data1.groupby(factor)\n",
    "grouped.apply(get_stats).unstack()"
   ]
  },
  {
   "cell_type": "code",
   "execution_count": null,
   "metadata": {
    "collapsed": true
   },
   "outputs": [],
   "source": []
  }
 ],
 "metadata": {
  "kernelspec": {
   "display_name": "Python [conda root]",
   "language": "python",
   "name": "conda-root-py"
  },
  "language_info": {
   "codemirror_mode": {
    "name": "ipython",
    "version": 3
   },
   "file_extension": ".py",
   "mimetype": "text/x-python",
   "name": "python",
   "nbconvert_exporter": "python",
   "pygments_lexer": "ipython3",
   "version": "3.5.2"
  }
 },
 "nbformat": 4,
 "nbformat_minor": 0
}
