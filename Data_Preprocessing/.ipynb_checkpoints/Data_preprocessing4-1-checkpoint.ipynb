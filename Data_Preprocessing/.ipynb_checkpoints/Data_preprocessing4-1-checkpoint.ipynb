{
 "cells": [
  {
   "cell_type": "code",
   "execution_count": 1,
   "metadata": {
    "collapsed": false
   },
   "outputs": [
    {
     "name": "stdout",
     "output_type": "stream",
     "text": [
      "      data1     data2 key1 key2\n",
      "0  1.627278 -0.717975    a  one\n",
      "1  0.972104 -1.804462    a  two\n",
      "2  1.117619 -0.804724    b  one\n",
      "3  1.629913  0.351831    b  two\n",
      "4  1.139401  1.059197    a  one\n"
     ]
    }
   ],
   "source": [
    "import pandas\n",
    "from pandas import *\n",
    "df = DataFrame({'key1' : ['a', 'a', 'b', 'b', 'a'], 'key2' : ['one', 'two', 'one', 'two', 'one'],\n",
    "                'data1' : np.random.randn(5), 'data2' : np.random.randn(5)})\n",
    "print (df)"
   ]
  },
  {
   "cell_type": "code",
   "execution_count": 2,
   "metadata": {
    "collapsed": false
   },
   "outputs": [
    {
     "name": "stdout",
     "output_type": "stream",
     "text": [
      "key1\n",
      "a    1.246261\n",
      "b    1.373766\n",
      "Name: data1, dtype: float64\n"
     ]
    }
   ],
   "source": [
    "### Means of data1 for sub-groups of key1\n",
    "means = df['data1'].groupby([df['key1']]).mean()\n",
    "print (means)"
   ]
  },
  {
   "cell_type": "code",
   "execution_count": 3,
   "metadata": {
    "collapsed": false
   },
   "outputs": [
    {
     "name": "stdout",
     "output_type": "stream",
     "text": [
      "key1  key2\n",
      "a     one     1.383340\n",
      "      two     0.972104\n",
      "b     one     1.117619\n",
      "      two     1.629913\n",
      "Name: data1, dtype: float64\n"
     ]
    }
   ],
   "source": [
    "### Means of data1 for sub-groups of key1 and key2\n",
    "means = df['data1'].groupby([df['key1'], df['key2']]).mean()\n",
    "print (means)"
   ]
  },
  {
   "cell_type": "code",
   "execution_count": 4,
   "metadata": {
    "collapsed": false
   },
   "outputs": [
    {
     "name": "stdout",
     "output_type": "stream",
     "text": [
      "         data1     data2\n",
      "key1                    \n",
      "a     1.246261 -0.487746\n",
      "b     1.373766 -0.226447\n"
     ]
    }
   ],
   "source": [
    "### Means of data1 and data2 for sub-groups of key1\n",
    "means=df.groupby('key1').mean()\n",
    "print (means)"
   ]
  },
  {
   "cell_type": "code",
   "execution_count": 5,
   "metadata": {
    "collapsed": false
   },
   "outputs": [
    {
     "name": "stdout",
     "output_type": "stream",
     "text": [
      "0.9   quantile_data1  quantile_data2\n",
      "key1                                \n",
      "a           1.529703        0.703763\n",
      "b           1.578683        0.236175\n"
     ]
    }
   ],
   "source": [
    "### Quantile of data1 and data2 for sub-groups of key1\n",
    "quantile=df.groupby('key1').quantile(0.9).add_prefix('quantile_')\n",
    "print (quantile)"
   ]
  },
  {
   "cell_type": "code",
   "execution_count": 6,
   "metadata": {
    "collapsed": false
   },
   "outputs": [
    {
     "name": "stdout",
     "output_type": "stream",
     "text": [
      "           mean_data1  mean_data2\n",
      "key1 key2                        \n",
      "a    one     1.383340    0.170611\n",
      "     two     0.972104   -1.804462\n",
      "b    one     1.117619   -0.804724\n",
      "     two     1.629913    0.351831\n"
     ]
    }
   ],
   "source": [
    "### Mean of data1 and data2 sub-groups of key1 and key2\n",
    "means=df.groupby(['key1', 'key2']).mean().add_prefix('mean_')\n",
    "print (means)"
   ]
  },
  {
   "cell_type": "code",
   "execution_count": 7,
   "metadata": {
    "collapsed": false
   },
   "outputs": [
    {
     "name": "stdout",
     "output_type": "stream",
     "text": [
      "               data1     data2\n",
      "key1                          \n",
      "a    count  3.000000  3.000000\n",
      "     mean   1.246261 -0.487746\n",
      "     std    0.340408  1.445645\n",
      "     min    0.972104 -1.804462\n",
      "     25%    1.055752 -1.261218\n",
      "     50%    1.139401 -0.717975\n",
      "     75%    1.383340  0.170611\n",
      "     max    1.627278  1.059197\n",
      "b    count  2.000000  2.000000\n",
      "     mean   1.373766 -0.226447\n",
      "     std    0.362246  0.817808\n",
      "     min    1.117619 -0.804724\n",
      "     25%    1.245693 -0.515586\n",
      "     50%    1.373766 -0.226447\n",
      "     75%    1.501839  0.062692\n",
      "     max    1.629913  0.351831\n"
     ]
    }
   ],
   "source": [
    "### Summary of data1 and data2 for sub-groups of key1 and key2\n",
    "summary=df.groupby('key1').describe()\n",
    "print (summary)"
   ]
  },
  {
   "cell_type": "code",
   "execution_count": 8,
   "metadata": {
    "collapsed": false
   },
   "outputs": [
    {
     "name": "stdout",
     "output_type": "stream",
     "text": [
      "key1  key2\n",
      "a     one     2\n",
      "      two     1\n",
      "b     one     1\n",
      "      two     1\n",
      "dtype: int64\n"
     ]
    }
   ],
   "source": [
    "### Number of data1 and data2 pairs for sub-groups of key1 and key2\n",
    "size=df.groupby(['key1', 'key2']).size()\n",
    "print (size)"
   ]
  },
  {
   "cell_type": "code",
   "execution_count": 9,
   "metadata": {
    "collapsed": false
   },
   "outputs": [
    {
     "name": "stdout",
     "output_type": "stream",
     "text": [
      "a\n",
      "      data1     data2 key1 key2\n",
      "0  1.627278 -0.717975    a  one\n",
      "1  0.972104 -1.804462    a  two\n",
      "4  1.139401  1.059197    a  one\n",
      "b\n",
      "      data1     data2 key1 key2\n",
      "2  1.117619 -0.804724    b  one\n",
      "3  1.629913  0.351831    b  two\n"
     ]
    }
   ],
   "source": [
    "### Spliting data for sub-groups of key1\n",
    "for name, group in df.groupby('key1'):\n",
    "    print (name)\n",
    "    print (group)"
   ]
  },
  {
   "cell_type": "code",
   "execution_count": 10,
   "metadata": {
    "collapsed": false
   },
   "outputs": [
    {
     "name": "stdout",
     "output_type": "stream",
     "text": [
      "a one\n",
      "      data1     data2 key1 key2\n",
      "0  1.627278 -0.717975    a  one\n",
      "4  1.139401  1.059197    a  one\n",
      "a two\n",
      "      data1     data2 key1 key2\n",
      "1  0.972104 -1.804462    a  two\n",
      "b one\n",
      "      data1     data2 key1 key2\n",
      "2  1.117619 -0.804724    b  one\n",
      "b two\n",
      "      data1     data2 key1 key2\n",
      "3  1.629913  0.351831    b  two\n"
     ]
    }
   ],
   "source": [
    "### Spliting data for sub-groups of both key1 and key2\n",
    "for (k1, k2), group in df.groupby(['key1', 'key2']):\n",
    "    print (k1, k2)\n",
    "    print (group)"
   ]
  },
  {
   "cell_type": "code",
   "execution_count": null,
   "metadata": {
    "collapsed": true
   },
   "outputs": [],
   "source": []
  }
 ],
 "metadata": {
  "kernelspec": {
   "display_name": "Python [conda root]",
   "language": "python",
   "name": "conda-root-py"
  },
  "language_info": {
   "codemirror_mode": {
    "name": "ipython",
    "version": 3
   },
   "file_extension": ".py",
   "mimetype": "text/x-python",
   "name": "python",
   "nbconvert_exporter": "python",
   "pygments_lexer": "ipython3",
   "version": "3.5.2"
  }
 },
 "nbformat": 4,
 "nbformat_minor": 0
}
